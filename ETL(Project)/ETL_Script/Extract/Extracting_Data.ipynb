{
 "cells": [
  {
   "cell_type": "markdown",
   "id": "4b382c91-791b-43e3-888f-1cf6a8a61874",
   "metadata": {},
   "source": [
    "# IMPORTING LIBRARIES"
   ]
  },
  {
   "cell_type": "code",
   "execution_count": 5,
   "id": "c9aa90d8-1c1a-42a3-8d08-4f82d0b7368e",
   "metadata": {},
   "outputs": [],
   "source": [
    "import pandas as pd \n",
    "from sqlalchemy import create_engine # Librarie for connections relationnelle database \n"
   ]
  },
  {
   "cell_type": "markdown",
   "id": "85b7b426-73a6-4aca-9d7c-12280363209a",
   "metadata": {},
   "source": [
    "# Read the Data sources "
   ]
  },
  {
   "cell_type": "code",
   "execution_count": 6,
   "id": "6f2a074f-1ab7-4107-b0f7-e1933015a931",
   "metadata": {},
   "outputs": [
    {
     "name": "stdout",
     "output_type": "stream",
     "text": [
      "   client_id       nom      prenom  ville_id\n",
      "0          1    Techer    Mathilde        50\n",
      "1          2     Petit       André        53\n",
      "2          3    Martin        René        71\n",
      "3          4   Pruvost  Philippine        41\n",
      "4          5  Bertrand       Lucie        47\n",
      "Une erreur s'est produite : [Errno 2] No such file or directory: '../..Data_Sources/transactions_bancaire_TB.csv'\n"
     ]
    }
   ],
   "source": [
    "# Function for extraction data_sources from diferents type (csv , excel , SQL) \n",
    "def Extract_Data():\n",
    "    driver = 'ODBC Driver 17 for SQL Server' # Use the ODBC Driver 17 to connect to a SQL Server database.\n",
    "    server = 'DESKTOP-I05NNIJ' # Name of server\n",
    "    database = 'Client' # Name of Database \n",
    "\n",
    "    # Create connection string\n",
    "    conn_str = f\"mssql+pyodbc://@{server}/{database}?driver={driver.replace(' ', '+')}&trusted_connection=yes\"\n",
    "    engine = create_engine(conn_str)\n",
    "\n",
    "    # SQL extraction\n",
    "    df_SQL = pd.read_sql(\"SELECT * FROM clients\", engine)\n",
    "    print(df_SQL.head())  ETL_Script/Extract/output/clients.csv\n",
    "\n",
    "    # Other sources\n",
    "    df_excel_VILLES = pd.read_excel('../../Data_Sources/villes_TB.xlsx')\n",
    "    df_excel_DATES = pd.read_excel('../../Data_Sources/dates_TB.xlsx')\n",
    "    df_excel_COMPTE_BQ = pd.read_excel('../../Data_Sources/comptes_bancaires_TB.xlsx')\n",
    "    df_csv_PAYS = pd.read_csv('../../Data_Sources/pays_TB.csv')\n",
    "    df_csv_TRANSACIONS_BQ = pd.read_csv('../../Data_Sources/transactions_bancaire_TB.csv')\n",
    "\n",
    "    # Return all as a dict\n",
    "    return {\n",
    "        \"clients\": df_SQL,\n",
    "        \"villes\": df_excel_VILLES,\n",
    "        \"dates\": df_excel_DATES,\n",
    "        \"comptes_bancaires\": df_excel_COMPTE_BQ,\n",
    "        \"pays\": df_csv_PAYS,\n",
    "        \"transactions_bancaires\": df_csv_TRANSACIONS_BQ\n",
    "    }\n",
    "# function for saving extraction data into a extraction outoup folder ( using in transformation task ) \n",
    "def Save_Extract_Data(dataframes):\n",
    "    dataframes[\"clients\"].to_csv('output/clients.csv', index=False)\n",
    "    dataframes[\"villes\"].to_csv('output/villes.csv', index=False)\n",
    "    dataframes[\"dates\"].to_csv('output/dates.csv', index=False)\n",
    "    dataframes[\"comptes_bancaires\"].to_csv('output/comptes_bancaires.csv', index=False)\n",
    "    dataframes[\"pays\"].to_csv('output/pays.csv', index=False)\n",
    "    dataframes[\"transactions_bancaires\"].to_csv('output/transactions_bancaires.csv', index=False)\n",
    "# L'execution \n",
    "if __name__ == \"__main__\":  \n",
    "    try:\n",
    "        df = Extract_Data() \n",
    "        Save_Extract_Data(df)  \n",
    "        print(\"Data saved succefully.\")\n",
    "    except Exception as e:\n",
    "        print(\"An error occurred.:\", e)\n",
    "\n",
    "    "
   ]
  },
  {
   "cell_type": "code",
   "execution_count": null,
   "id": "d27791d6-e72d-4449-b7c7-4bfcbd33858c",
   "metadata": {},
   "outputs": [],
   "source": []
  }
 ],
 "metadata": {
  "kernelspec": {
   "display_name": "Python 3 (ipykernel)",
   "language": "python",
   "name": "python3"
  },
  "language_info": {
   "codemirror_mode": {
    "name": "ipython",
    "version": 3
   },
   "file_extension": ".py",
   "mimetype": "text/x-python",
   "name": "python",
   "nbconvert_exporter": "python",
   "pygments_lexer": "ipython3",
   "version": "3.13.5"
  }
 },
 "nbformat": 4,
 "nbformat_minor": 5
}
