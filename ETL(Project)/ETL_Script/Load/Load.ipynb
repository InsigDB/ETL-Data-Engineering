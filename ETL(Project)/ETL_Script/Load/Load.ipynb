{
 "cells": [
  {
   "cell_type": "markdown",
   "id": "66456d6c-1283-4226-90c5-1fdb6b76e57f",
   "metadata": {},
   "source": [
    "# Importing library "
   ]
  },
  {
   "cell_type": "code",
   "execution_count": 6,
   "id": "e8b16944-861c-4b5e-a6cb-fd205f439d8a",
   "metadata": {},
   "outputs": [],
   "source": [
    "import pandas as pd\n",
    "from sqlalchemy import create_engine # used to connect to the database"
   ]
  },
  {
   "cell_type": "code",
   "execution_count": 46,
   "id": "bb092f85-14e0-42d3-87eb-0fefe59731eb",
   "metadata": {},
   "outputs": [],
   "source": [
    "def Extract_Data():\n",
    "    \n",
    "# create function for extract output transformation from transform folder and read 'OLAP' database from SQL Server \n",
    "    driver = 'ODBC Driver 17 for SQL Server' # Use the ODBC Driver 17 to connect to a SQL Server database.\n",
    "    server = 'DESKTOP-I05NNIJ' # Name of service\n",
    "    database = 'BQ_Snowflake_Modele' # Name of Database \n",
    "    \n",
    "# Create connection string\n",
    "    conn_str = f\"mssql+pyodbc://@{server}/{database}?driver={driver.replace(' ', '+')}&trusted_connection=yes\"\n",
    "    engine = create_engine(conn_str) # \n",
    "\n",
    "# Extract Dimension and fact table from SQL Server \n",
    "    df_client_Dimension = pd.read_sql(\"SELECT * FROM Dimension_client\", engine)\n",
    "    df_Date_Dimension = pd.read_sql(\"SELECT * FROM Dimension_date\", engine)\n",
    "    df_pays_Dimension = pd.read_sql(\"SELECT * FROM Dimension_pays\", engine)\n",
    "    df_transaction_Dimension = pd.read_sql(\"SELECT * FROM Dimension_transaction\", engine)\n",
    "    df_villes_Dimension = pd.read_sql(\"SELECT * FROM Dimension_villes\", engine)\n",
    "    df_Comptes_BQ_Dimension = pd.read_sql(\"SELECT * FROM Dimension_Comptes_BQ\", engine)\n",
    "    df_fait_transaction = pd.read_sql(\"SELECT * FROM fait_transaction\", engine)\n",
    "\n",
    "\n",
    "# Extract transform data from output/transfom folder \n",
    "    df_clean_clients = pd.read_csv(r'C:/Users/AzComputer/Desktop/ETL(Project)/ETL_Script/Transform/output/df_clean_clients.csv')\n",
    "    df_clean_villes =  pd.read_csv(r'C:/Users/AzComputer/Desktop/ETL(Project)/ETL_Script/Transform/output/df_clean_villes.csv')\n",
    "    df_clean_pays =  pd.read_csv(r'C:/Users/AzComputer/Desktop/ETL(Project)/ETL_Script/Transform/output/df_clean_pays.csv')\n",
    "    df_clean_dates =  pd.read_csv(r'C:/Users/AzComputer/Desktop/ETL(Project)/ETL_Script/Transform/output/df_clean_dates.csv')\n",
    "    df_clean_compts =  pd.read_csv(r'C:/Users/AzComputer/Desktop/ETL(Project)/ETL_Script/Transform/output/df_clean_compts.csv')\n",
    "    df_clean_transactions =  pd.read_csv(r'C:/Users/AzComputer/Desktop/ETL(Project)/ETL_Script/Transform/output/df_clean_transactions.csv')\n",
    "\n",
    "# create a Data  dictionary that return all Dimension and Clean dataframe \n",
    "    Data =  {\n",
    "    \"client_Dimension\" : df_client_Dimension,\n",
    "    \"Date_Dimension \" : df_Date_Dimension,\n",
    "    \"pays_Dimension\" : df_pays_Dimension,\n",
    "    \"transaction_Dimension\" : df_transaction_Dimension,\n",
    "    \"villes_Dimension\" : df_villes_Dimension,\n",
    "    \"Comptes_BQ_Dimension\" :  df_Comptes_BQ_Dimension,\n",
    "    \"fait_transaction\" : df_fait_transaction,\n",
    "    \"clean_clients\" : df_clean_clients,\n",
    "    \"clean_villes\" : df_clean_villes,\n",
    "    \"clean_pays\" :  df_clean_pays,\n",
    "    \"clean_dates\" : df_clean_dates,\n",
    "    \"clean_compts\" : df_clean_compts,\n",
    "    \"clean_transactions\" : df_clean_transactions\n",
    "    }\n",
    "    return Data, engine\n",
    "    \n",
    "    \n",
    "    "
   ]
  },
  {
   "cell_type": "code",
   "execution_count": 47,
   "id": "b4a0203a-ed5a-4c99-b54d-d5ce8a0dfdb6",
   "metadata": {},
   "outputs": [],
   "source": [
    "Data , engine = Extract_Data() # Call to the function white two variables Data and engine  "
   ]
  },
  {
   "cell_type": "code",
   "execution_count": 48,
   "id": "e5103db6-aa99-4dfc-8daa-2ce430fac223",
   "metadata": {},
   "outputs": [],
   "source": [
    "df_clean_clients = Data[\"clean_clients\"] # access to the clean Dataframe from the data dictionary"
   ]
  },
  {
   "cell_type": "code",
   "execution_count": 49,
   "id": "3f077772-f6fb-4ea4-bb12-71dbc6bf9a8a",
   "metadata": {},
   "outputs": [],
   "source": [
    "df_clean_villes = Data[\"clean_villes\"]"
   ]
  },
  {
   "cell_type": "code",
   "execution_count": 50,
   "id": "33c85332-c5df-4218-a5eb-d056e32d545a",
   "metadata": {},
   "outputs": [],
   "source": [
    "df_clean_comptes = Data[\"clean_compts\"]"
   ]
  },
  {
   "cell_type": "code",
   "execution_count": 51,
   "id": "018d1d8d-49fe-4bf5-8db9-2c88e825d2ae",
   "metadata": {},
   "outputs": [],
   "source": [
    "df_clean_dates = Data[\"clean_dates\"]"
   ]
  },
  {
   "cell_type": "code",
   "execution_count": 52,
   "id": "119814d9-3844-47c4-a48d-fcc7264a0d99",
   "metadata": {},
   "outputs": [],
   "source": [
    "df_clean_transaction = Data[\"clean_transactions\"]"
   ]
  },
  {
   "cell_type": "code",
   "execution_count": 10,
   "id": "b8a3f3f3-b743-4665-8cbe-65e83020fc88",
   "metadata": {
    "scrolled": true
   },
   "outputs": [
    {
     "data": {
      "text/plain": [
       "46"
      ]
     },
     "execution_count": 10,
     "metadata": {},
     "output_type": "execute_result"
    }
   ],
   "source": [
    "# Load cleaned data into Dimension table\n",
    "Data[\"clean_pays\"].to_sql(\"Dimension_pays\", con=engine, if_exists=\"append\", index=False)"
   ]
  },
  {
   "cell_type": "code",
   "execution_count": 39,
   "id": "08d62df6-2841-4121-826c-9138ecb72611",
   "metadata": {},
   "outputs": [
    {
     "data": {
      "text/html": [
       "<div>\n",
       "<style scoped>\n",
       "    .dataframe tbody tr th:only-of-type {\n",
       "        vertical-align: middle;\n",
       "    }\n",
       "\n",
       "    .dataframe tbody tr th {\n",
       "        vertical-align: top;\n",
       "    }\n",
       "\n",
       "    .dataframe thead th {\n",
       "        text-align: right;\n",
       "    }\n",
       "</style>\n",
       "<table border=\"1\" class=\"dataframe\">\n",
       "  <thead>\n",
       "    <tr style=\"text-align: right;\">\n",
       "      <th></th>\n",
       "      <th>transaction_id</th>\n",
       "      <th>account_id</th>\n",
       "      <th>date_id</th>\n",
       "      <th>transaction_type</th>\n",
       "    </tr>\n",
       "  </thead>\n",
       "  <tbody>\n",
       "    <tr>\n",
       "      <th>0</th>\n",
       "      <td>13738</td>\n",
       "      <td>2469</td>\n",
       "      <td>3013</td>\n",
       "      <td>retrait</td>\n",
       "    </tr>\n",
       "    <tr>\n",
       "      <th>1</th>\n",
       "      <td>48242</td>\n",
       "      <td>2081</td>\n",
       "      <td>1033</td>\n",
       "      <td>retrait</td>\n",
       "    </tr>\n",
       "    <tr>\n",
       "      <th>2</th>\n",
       "      <td>93517</td>\n",
       "      <td>188</td>\n",
       "      <td>1708</td>\n",
       "      <td>prélèvement</td>\n",
       "    </tr>\n",
       "    <tr>\n",
       "      <th>3</th>\n",
       "      <td>74104</td>\n",
       "      <td>3659</td>\n",
       "      <td>3760</td>\n",
       "      <td>prélèvement</td>\n",
       "    </tr>\n",
       "    <tr>\n",
       "      <th>4</th>\n",
       "      <td>44663</td>\n",
       "      <td>8</td>\n",
       "      <td>2686</td>\n",
       "      <td>paiement</td>\n",
       "    </tr>\n",
       "    <tr>\n",
       "      <th>...</th>\n",
       "      <td>...</td>\n",
       "      <td>...</td>\n",
       "      <td>...</td>\n",
       "      <td>...</td>\n",
       "    </tr>\n",
       "    <tr>\n",
       "      <th>9995</th>\n",
       "      <td>52605</td>\n",
       "      <td>993</td>\n",
       "      <td>3758</td>\n",
       "      <td>virement</td>\n",
       "    </tr>\n",
       "    <tr>\n",
       "      <th>9996</th>\n",
       "      <td>99187</td>\n",
       "      <td>3560</td>\n",
       "      <td>283</td>\n",
       "      <td>retrait</td>\n",
       "    </tr>\n",
       "    <tr>\n",
       "      <th>9997</th>\n",
       "      <td>31567</td>\n",
       "      <td>2265</td>\n",
       "      <td>3241</td>\n",
       "      <td>dépôt</td>\n",
       "    </tr>\n",
       "    <tr>\n",
       "      <th>9998</th>\n",
       "      <td>19415</td>\n",
       "      <td>2122</td>\n",
       "      <td>1416</td>\n",
       "      <td>dépôt</td>\n",
       "    </tr>\n",
       "    <tr>\n",
       "      <th>9999</th>\n",
       "      <td>13570</td>\n",
       "      <td>3109</td>\n",
       "      <td>2575</td>\n",
       "      <td>dépôt</td>\n",
       "    </tr>\n",
       "  </tbody>\n",
       "</table>\n",
       "<p>10000 rows × 4 columns</p>\n",
       "</div>"
      ],
      "text/plain": [
       "      transaction_id  account_id  date_id transaction_type\n",
       "0              13738        2469     3013          retrait\n",
       "1              48242        2081     1033          retrait\n",
       "2              93517         188     1708      prélèvement\n",
       "3              74104        3659     3760      prélèvement\n",
       "4              44663           8     2686         paiement\n",
       "...              ...         ...      ...              ...\n",
       "9995           52605         993     3758         virement\n",
       "9996           99187        3560      283          retrait\n",
       "9997           31567        2265     3241            dépôt\n",
       "9998           19415        2122     1416            dépôt\n",
       "9999           13570        3109     2575            dépôt\n",
       "\n",
       "[10000 rows x 4 columns]"
      ]
     },
     "execution_count": 39,
     "metadata": {},
     "output_type": "execute_result"
    }
   ],
   "source": [
    "transaction_columns_Dimension = df_clean_transaction[[\"transaction_id\",\"account_id\",\"date_id\",\"transaction_type\"]]\n",
    "transaction_columns_Dimension # define juste the speceficific columns for transaction_dimension "
   ]
  },
  {
   "cell_type": "code",
   "execution_count": 35,
   "id": "0d69ff55-1dce-4411-ad3a-02d65b8ba344",
   "metadata": {},
   "outputs": [
    {
     "data": {
      "text/plain": [
       "44"
      ]
     },
     "execution_count": 35,
     "metadata": {},
     "output_type": "execute_result"
    }
   ],
   "source": [
    "transaction_columns_Dimension.to_sql(\"Dimension_transaction\", con=engine, if_exists=\"append\", index=False)"
   ]
  },
  {
   "cell_type": "code",
   "execution_count": 23,
   "id": "fefd462b-5be1-4f52-96f1-d634f0d351fc",
   "metadata": {},
   "outputs": [
    {
     "data": {
      "text/plain": [
       "100"
      ]
     },
     "execution_count": 23,
     "metadata": {},
     "output_type": "execute_result"
    }
   ],
   "source": [
    "Data[\"clean_villes\"].to_sql(\"Dimension_villes\", con=engine, if_exists=\"append\", index=False)"
   ]
  },
  {
   "cell_type": "code",
   "execution_count": 25,
   "id": "bb306706-17d1-4911-9fd4-52dda8aa4da6",
   "metadata": {},
   "outputs": [
    {
     "name": "stderr",
     "output_type": "stream",
     "text": [
      "C:\\Users\\AzComputer\\AppData\\Local\\Temp\\ipykernel_15084\\3921175743.py:1: UserWarning: The provided table name 'Dimension_client' is not found exactly as such in the database after writing the table, possibly due to case sensitivity issues. Consider using lower case table names.\n",
      "  Data[\"clean_clients\"].to_sql(\"Dimension_client\", con=engine, if_exists=\"append\", index=False)\n"
     ]
    },
    {
     "data": {
      "text/plain": [
       "101"
      ]
     },
     "execution_count": 25,
     "metadata": {},
     "output_type": "execute_result"
    }
   ],
   "source": [
    "Data[\"clean_clients\"].to_sql(\"Dimension_client\", con=engine, if_exists=\"append\", index=False) "
   ]
  },
  {
   "cell_type": "code",
   "execution_count": 13,
   "id": "fbbe1135-4d1e-480c-bf26-f33c5f97d723",
   "metadata": {},
   "outputs": [
    {
     "data": {
      "text/plain": [
       "332"
      ]
     },
     "execution_count": 13,
     "metadata": {},
     "output_type": "execute_result"
    }
   ],
   "source": [
    "Data[\"clean_compts\"].to_sql(\"Dimension_Comptes_BQ\", con=engine, if_exists=\"append\", index=False)"
   ]
  },
  {
   "cell_type": "code",
   "execution_count": 23,
   "id": "9372143c-1eda-4bb6-b392-3acd8890e270",
   "metadata": {},
   "outputs": [
    {
     "data": {
      "text/plain": [
       "247"
      ]
     },
     "execution_count": 23,
     "metadata": {},
     "output_type": "execute_result"
    }
   ],
   "source": [
    "Data[\"clean_dates\"].to_sql(\"Dimension_date\", con=engine, if_exists=\"append\", index=False)"
   ]
  },
  {
   "cell_type": "code",
   "execution_count": 54,
   "id": "ec30e24f-b529-439a-8fde-a44e3e5ee29b",
   "metadata": {},
   "outputs": [],
   "source": [
    "ID_client_Fact_table =  df_clean_clients['client_id']      # Dertermine each id from dimensions for loading into a fact table\n",
    "ID_account_Fact_table = df_clean_comptes['account_id']\n",
    "ID_transaction_Fact_table = df_clean_transaction['transaction_id']\n",
    "ID_date_Fact_table =  df_clean_dates['date_id']\n",
    "Amount_fact_table =  df_clean_transaction['amount']"
   ]
  },
  {
   "cell_type": "code",
   "execution_count": 59,
   "id": "74e0b1a2-8b2d-4cfa-a69a-8aefa090c641",
   "metadata": {},
   "outputs": [],
   "source": [
    "df_fait_transaction = pd.DataFrame({                     # creates a new pandas DataFrame called df_fait_transaction \n",
    "    'client_id': ID_client_Fact_table,\n",
    "    'account_id': ID_account_Fact_table,\n",
    "    'transaction_id': ID_transaction_Fact_table,\n",
    "    'date_id': ID_date_Fact_table,\n",
    "    'amount': Amount_fact_table\n",
    "})\n"
   ]
  },
  {
   "cell_type": "code",
   "execution_count": 60,
   "id": "4311776f-30b4-4bed-bf71-69fed69379f1",
   "metadata": {},
   "outputs": [
    {
     "data": {
      "text/plain": [
       "363"
      ]
     },
     "execution_count": 60,
     "metadata": {},
     "output_type": "execute_result"
    }
   ],
   "source": [
    "df_fait_transaction.to_sql(\"fait_transaction\", con=engine, if_exists=\"append\", index=False) \n"
   ]
  }
 ],
 "metadata": {
  "kernelspec": {
   "display_name": "Python 3 (ipykernel)",
   "language": "python",
   "name": "python3"
  },
  "language_info": {
   "codemirror_mode": {
    "name": "ipython",
    "version": 3
   },
   "file_extension": ".py",
   "mimetype": "text/x-python",
   "name": "python",
   "nbconvert_exporter": "python",
   "pygments_lexer": "ipython3",
   "version": "3.13.5"
  }
 },
 "nbformat": 4,
 "nbformat_minor": 5
}
